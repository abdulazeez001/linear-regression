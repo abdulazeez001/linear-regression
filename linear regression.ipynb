{
 "cells": [
  {
   "cell_type": "code",
   "execution_count": 7,
   "metadata": {},
   "outputs": [],
   "source": [
    "import numpy as np\n",
    "import matplotlib.pyplot as plt\n",
    "import pandas as pd\n",
    "    "
   ]
  },
  {
   "cell_type": "markdown",
   "metadata": {},
   "source": [
    "ex1data  = np.loadtxt(r'C:\\Users\\UNION\\Downloads\\ex1data1.txt', delimiter=',')\n",
    "\n"
   ]
  },
  {
   "cell_type": "code",
   "execution_count": 8,
   "metadata": {},
   "outputs": [],
   "source": [
    "ex1data  = np.loadtxt(r'C:\\Users\\UNION\\Downloads\\ex1data1.txt', delimiter=',')\n",
    "\n"
   ]
  },
  {
   "cell_type": "code",
   "execution_count": 9,
   "metadata": {},
   "outputs": [
    {
     "data": {
      "text/plain": [
       "array([[ 6.1101 , 17.592  ],\n",
       "       [ 5.5277 ,  9.1302 ],\n",
       "       [ 8.5186 , 13.662  ],\n",
       "       [ 7.0032 , 11.854  ],\n",
       "       [ 5.8598 ,  6.8233 ],\n",
       "       [ 8.3829 , 11.886  ],\n",
       "       [ 7.4764 ,  4.3483 ],\n",
       "       [ 8.5781 , 12.     ],\n",
       "       [ 6.4862 ,  6.5987 ],\n",
       "       [ 5.0546 ,  3.8166 ],\n",
       "       [ 5.7107 ,  3.2522 ],\n",
       "       [14.164  , 15.505  ],\n",
       "       [ 5.734  ,  3.1551 ],\n",
       "       [ 8.4084 ,  7.2258 ],\n",
       "       [ 5.6407 ,  0.71618],\n",
       "       [ 5.3794 ,  3.5129 ],\n",
       "       [ 6.3654 ,  5.3048 ],\n",
       "       [ 5.1301 ,  0.56077],\n",
       "       [ 6.4296 ,  3.6518 ],\n",
       "       [ 7.0708 ,  5.3893 ],\n",
       "       [ 6.1891 ,  3.1386 ],\n",
       "       [20.27   , 21.767  ],\n",
       "       [ 5.4901 ,  4.263  ],\n",
       "       [ 6.3261 ,  5.1875 ],\n",
       "       [ 5.5649 ,  3.0825 ],\n",
       "       [18.945  , 22.638  ],\n",
       "       [12.828  , 13.501  ],\n",
       "       [10.957  ,  7.0467 ],\n",
       "       [13.176  , 14.692  ],\n",
       "       [22.203  , 24.147  ],\n",
       "       [ 5.2524 , -1.22   ],\n",
       "       [ 6.5894 ,  5.9966 ],\n",
       "       [ 9.2482 , 12.134  ],\n",
       "       [ 5.8918 ,  1.8495 ],\n",
       "       [ 8.2111 ,  6.5426 ],\n",
       "       [ 7.9334 ,  4.5623 ],\n",
       "       [ 8.0959 ,  4.1164 ],\n",
       "       [ 5.6063 ,  3.3928 ],\n",
       "       [12.836  , 10.117  ],\n",
       "       [ 6.3534 ,  5.4974 ],\n",
       "       [ 5.4069 ,  0.55657],\n",
       "       [ 6.8825 ,  3.9115 ],\n",
       "       [11.708  ,  5.3854 ],\n",
       "       [ 5.7737 ,  2.4406 ],\n",
       "       [ 7.8247 ,  6.7318 ],\n",
       "       [ 7.0931 ,  1.0463 ],\n",
       "       [ 5.0702 ,  5.1337 ],\n",
       "       [ 5.8014 ,  1.844  ],\n",
       "       [11.7    ,  8.0043 ],\n",
       "       [ 5.5416 ,  1.0179 ],\n",
       "       [ 7.5402 ,  6.7504 ],\n",
       "       [ 5.3077 ,  1.8396 ],\n",
       "       [ 7.4239 ,  4.2885 ],\n",
       "       [ 7.6031 ,  4.9981 ],\n",
       "       [ 6.3328 ,  1.4233 ],\n",
       "       [ 6.3589 , -1.4211 ],\n",
       "       [ 6.2742 ,  2.4756 ],\n",
       "       [ 5.6397 ,  4.6042 ],\n",
       "       [ 9.3102 ,  3.9624 ],\n",
       "       [ 9.4536 ,  5.4141 ],\n",
       "       [ 8.8254 ,  5.1694 ],\n",
       "       [ 5.1793 , -0.74279],\n",
       "       [21.279  , 17.929  ],\n",
       "       [14.908  , 12.054  ],\n",
       "       [18.959  , 17.054  ],\n",
       "       [ 7.2182 ,  4.8852 ],\n",
       "       [ 8.2951 ,  5.7442 ],\n",
       "       [10.236  ,  7.7754 ],\n",
       "       [ 5.4994 ,  1.0173 ],\n",
       "       [20.341  , 20.992  ],\n",
       "       [10.136  ,  6.6799 ],\n",
       "       [ 7.3345 ,  4.0259 ],\n",
       "       [ 6.0062 ,  1.2784 ],\n",
       "       [ 7.2259 ,  3.3411 ],\n",
       "       [ 5.0269 , -2.6807 ],\n",
       "       [ 6.5479 ,  0.29678],\n",
       "       [ 7.5386 ,  3.8845 ],\n",
       "       [ 5.0365 ,  5.7014 ],\n",
       "       [10.274  ,  6.7526 ],\n",
       "       [ 5.1077 ,  2.0576 ],\n",
       "       [ 5.7292 ,  0.47953],\n",
       "       [ 5.1884 ,  0.20421],\n",
       "       [ 6.3557 ,  0.67861],\n",
       "       [ 9.7687 ,  7.5435 ],\n",
       "       [ 6.5159 ,  5.3436 ],\n",
       "       [ 8.5172 ,  4.2415 ],\n",
       "       [ 9.1802 ,  6.7981 ],\n",
       "       [ 6.002  ,  0.92695],\n",
       "       [ 5.5204 ,  0.152  ],\n",
       "       [ 5.0594 ,  2.8214 ],\n",
       "       [ 5.7077 ,  1.8451 ],\n",
       "       [ 7.6366 ,  4.2959 ],\n",
       "       [ 5.8707 ,  7.2029 ],\n",
       "       [ 5.3054 ,  1.9869 ],\n",
       "       [ 8.2934 ,  0.14454],\n",
       "       [13.394  ,  9.0551 ],\n",
       "       [ 5.4369 ,  0.61705]])"
      ]
     },
     "execution_count": 9,
     "metadata": {},
     "output_type": "execute_result"
    }
   ],
   "source": [
    "ex1data "
   ]
  },
  {
   "cell_type": "code",
   "execution_count": 10,
   "metadata": {},
   "outputs": [],
   "source": [
    "x = np.c_[ex1data[:,0],np.ones(ex1data.shape[0])]"
   ]
  },
  {
   "cell_type": "code",
   "execution_count": 11,
   "metadata": {},
   "outputs": [
    {
     "data": {
      "text/plain": [
       "array([[ 6.1101,  1.    ],\n",
       "       [ 5.5277,  1.    ],\n",
       "       [ 8.5186,  1.    ],\n",
       "       [ 7.0032,  1.    ],\n",
       "       [ 5.8598,  1.    ],\n",
       "       [ 8.3829,  1.    ],\n",
       "       [ 7.4764,  1.    ],\n",
       "       [ 8.5781,  1.    ],\n",
       "       [ 6.4862,  1.    ],\n",
       "       [ 5.0546,  1.    ],\n",
       "       [ 5.7107,  1.    ],\n",
       "       [14.164 ,  1.    ],\n",
       "       [ 5.734 ,  1.    ],\n",
       "       [ 8.4084,  1.    ],\n",
       "       [ 5.6407,  1.    ],\n",
       "       [ 5.3794,  1.    ],\n",
       "       [ 6.3654,  1.    ],\n",
       "       [ 5.1301,  1.    ],\n",
       "       [ 6.4296,  1.    ],\n",
       "       [ 7.0708,  1.    ],\n",
       "       [ 6.1891,  1.    ],\n",
       "       [20.27  ,  1.    ],\n",
       "       [ 5.4901,  1.    ],\n",
       "       [ 6.3261,  1.    ],\n",
       "       [ 5.5649,  1.    ],\n",
       "       [18.945 ,  1.    ],\n",
       "       [12.828 ,  1.    ],\n",
       "       [10.957 ,  1.    ],\n",
       "       [13.176 ,  1.    ],\n",
       "       [22.203 ,  1.    ],\n",
       "       [ 5.2524,  1.    ],\n",
       "       [ 6.5894,  1.    ],\n",
       "       [ 9.2482,  1.    ],\n",
       "       [ 5.8918,  1.    ],\n",
       "       [ 8.2111,  1.    ],\n",
       "       [ 7.9334,  1.    ],\n",
       "       [ 8.0959,  1.    ],\n",
       "       [ 5.6063,  1.    ],\n",
       "       [12.836 ,  1.    ],\n",
       "       [ 6.3534,  1.    ],\n",
       "       [ 5.4069,  1.    ],\n",
       "       [ 6.8825,  1.    ],\n",
       "       [11.708 ,  1.    ],\n",
       "       [ 5.7737,  1.    ],\n",
       "       [ 7.8247,  1.    ],\n",
       "       [ 7.0931,  1.    ],\n",
       "       [ 5.0702,  1.    ],\n",
       "       [ 5.8014,  1.    ],\n",
       "       [11.7   ,  1.    ],\n",
       "       [ 5.5416,  1.    ],\n",
       "       [ 7.5402,  1.    ],\n",
       "       [ 5.3077,  1.    ],\n",
       "       [ 7.4239,  1.    ],\n",
       "       [ 7.6031,  1.    ],\n",
       "       [ 6.3328,  1.    ],\n",
       "       [ 6.3589,  1.    ],\n",
       "       [ 6.2742,  1.    ],\n",
       "       [ 5.6397,  1.    ],\n",
       "       [ 9.3102,  1.    ],\n",
       "       [ 9.4536,  1.    ],\n",
       "       [ 8.8254,  1.    ],\n",
       "       [ 5.1793,  1.    ],\n",
       "       [21.279 ,  1.    ],\n",
       "       [14.908 ,  1.    ],\n",
       "       [18.959 ,  1.    ],\n",
       "       [ 7.2182,  1.    ],\n",
       "       [ 8.2951,  1.    ],\n",
       "       [10.236 ,  1.    ],\n",
       "       [ 5.4994,  1.    ],\n",
       "       [20.341 ,  1.    ],\n",
       "       [10.136 ,  1.    ],\n",
       "       [ 7.3345,  1.    ],\n",
       "       [ 6.0062,  1.    ],\n",
       "       [ 7.2259,  1.    ],\n",
       "       [ 5.0269,  1.    ],\n",
       "       [ 6.5479,  1.    ],\n",
       "       [ 7.5386,  1.    ],\n",
       "       [ 5.0365,  1.    ],\n",
       "       [10.274 ,  1.    ],\n",
       "       [ 5.1077,  1.    ],\n",
       "       [ 5.7292,  1.    ],\n",
       "       [ 5.1884,  1.    ],\n",
       "       [ 6.3557,  1.    ],\n",
       "       [ 9.7687,  1.    ],\n",
       "       [ 6.5159,  1.    ],\n",
       "       [ 8.5172,  1.    ],\n",
       "       [ 9.1802,  1.    ],\n",
       "       [ 6.002 ,  1.    ],\n",
       "       [ 5.5204,  1.    ],\n",
       "       [ 5.0594,  1.    ],\n",
       "       [ 5.7077,  1.    ],\n",
       "       [ 7.6366,  1.    ],\n",
       "       [ 5.8707,  1.    ],\n",
       "       [ 5.3054,  1.    ],\n",
       "       [ 8.2934,  1.    ],\n",
       "       [13.394 ,  1.    ],\n",
       "       [ 5.4369,  1.    ]])"
      ]
     },
     "execution_count": 11,
     "metadata": {},
     "output_type": "execute_result"
    }
   ],
   "source": [
    "x"
   ]
  },
  {
   "cell_type": "code",
   "execution_count": 12,
   "metadata": {},
   "outputs": [],
   "source": [
    "y =np.c_[ex1data[:,1]]"
   ]
  },
  {
   "cell_type": "code",
   "execution_count": 13,
   "metadata": {},
   "outputs": [
    {
     "data": {
      "text/plain": [
       "array([[17.592  ],\n",
       "       [ 9.1302 ],\n",
       "       [13.662  ],\n",
       "       [11.854  ],\n",
       "       [ 6.8233 ],\n",
       "       [11.886  ],\n",
       "       [ 4.3483 ],\n",
       "       [12.     ],\n",
       "       [ 6.5987 ],\n",
       "       [ 3.8166 ],\n",
       "       [ 3.2522 ],\n",
       "       [15.505  ],\n",
       "       [ 3.1551 ],\n",
       "       [ 7.2258 ],\n",
       "       [ 0.71618],\n",
       "       [ 3.5129 ],\n",
       "       [ 5.3048 ],\n",
       "       [ 0.56077],\n",
       "       [ 3.6518 ],\n",
       "       [ 5.3893 ],\n",
       "       [ 3.1386 ],\n",
       "       [21.767  ],\n",
       "       [ 4.263  ],\n",
       "       [ 5.1875 ],\n",
       "       [ 3.0825 ],\n",
       "       [22.638  ],\n",
       "       [13.501  ],\n",
       "       [ 7.0467 ],\n",
       "       [14.692  ],\n",
       "       [24.147  ],\n",
       "       [-1.22   ],\n",
       "       [ 5.9966 ],\n",
       "       [12.134  ],\n",
       "       [ 1.8495 ],\n",
       "       [ 6.5426 ],\n",
       "       [ 4.5623 ],\n",
       "       [ 4.1164 ],\n",
       "       [ 3.3928 ],\n",
       "       [10.117  ],\n",
       "       [ 5.4974 ],\n",
       "       [ 0.55657],\n",
       "       [ 3.9115 ],\n",
       "       [ 5.3854 ],\n",
       "       [ 2.4406 ],\n",
       "       [ 6.7318 ],\n",
       "       [ 1.0463 ],\n",
       "       [ 5.1337 ],\n",
       "       [ 1.844  ],\n",
       "       [ 8.0043 ],\n",
       "       [ 1.0179 ],\n",
       "       [ 6.7504 ],\n",
       "       [ 1.8396 ],\n",
       "       [ 4.2885 ],\n",
       "       [ 4.9981 ],\n",
       "       [ 1.4233 ],\n",
       "       [-1.4211 ],\n",
       "       [ 2.4756 ],\n",
       "       [ 4.6042 ],\n",
       "       [ 3.9624 ],\n",
       "       [ 5.4141 ],\n",
       "       [ 5.1694 ],\n",
       "       [-0.74279],\n",
       "       [17.929  ],\n",
       "       [12.054  ],\n",
       "       [17.054  ],\n",
       "       [ 4.8852 ],\n",
       "       [ 5.7442 ],\n",
       "       [ 7.7754 ],\n",
       "       [ 1.0173 ],\n",
       "       [20.992  ],\n",
       "       [ 6.6799 ],\n",
       "       [ 4.0259 ],\n",
       "       [ 1.2784 ],\n",
       "       [ 3.3411 ],\n",
       "       [-2.6807 ],\n",
       "       [ 0.29678],\n",
       "       [ 3.8845 ],\n",
       "       [ 5.7014 ],\n",
       "       [ 6.7526 ],\n",
       "       [ 2.0576 ],\n",
       "       [ 0.47953],\n",
       "       [ 0.20421],\n",
       "       [ 0.67861],\n",
       "       [ 7.5435 ],\n",
       "       [ 5.3436 ],\n",
       "       [ 4.2415 ],\n",
       "       [ 6.7981 ],\n",
       "       [ 0.92695],\n",
       "       [ 0.152  ],\n",
       "       [ 2.8214 ],\n",
       "       [ 1.8451 ],\n",
       "       [ 4.2959 ],\n",
       "       [ 7.2029 ],\n",
       "       [ 1.9869 ],\n",
       "       [ 0.14454],\n",
       "       [ 9.0551 ],\n",
       "       [ 0.61705]])"
      ]
     },
     "execution_count": 13,
     "metadata": {},
     "output_type": "execute_result"
    }
   ],
   "source": [
    "y"
   ]
  },
  {
   "cell_type": "code",
   "execution_count": 14,
   "metadata": {},
   "outputs": [],
   "source": [
    "import matplotlib.pyplot as plt"
   ]
  },
  {
   "cell_type": "code",
   "execution_count": 15,
   "metadata": {},
   "outputs": [
    {
     "data": {
      "text/plain": [
       "<matplotlib.collections.PathCollection at 0x215a93d0518>"
      ]
     },
     "execution_count": 15,
     "metadata": {},
     "output_type": "execute_result"
    },
    {
     "data": {
      "image/png": "[encoded data removed]",
      "text/plain": [
       "<Figure size 432x288 with 1 Axes>"
      ]
     },
     "metadata": {
      "needs_background": "light"
     },
     "output_type": "display_data"
    }
   ],
   "source": [
    "plt.scatter(x[:,0],y)"
   ]
  },
  {
   "cell_type": "code",
   "execution_count": 16,
   "metadata": {},
   "outputs": [
    {
     "data": {
      "text/plain": [
       "array([[ 6.1101,  5.5277,  8.5186,  7.0032,  5.8598,  8.3829,  7.4764,\n",
       "         8.5781,  6.4862,  5.0546,  5.7107, 14.164 ,  5.734 ,  8.4084,\n",
       "         5.6407,  5.3794,  6.3654,  5.1301,  6.4296,  7.0708,  6.1891,\n",
       "        20.27  ,  5.4901,  6.3261,  5.5649, 18.945 , 12.828 , 10.957 ,\n",
       "        13.176 , 22.203 ,  5.2524,  6.5894,  9.2482,  5.8918,  8.2111,\n",
       "         7.9334,  8.0959,  5.6063, 12.836 ,  6.3534,  5.4069,  6.8825,\n",
       "        11.708 ,  5.7737,  7.8247,  7.0931,  5.0702,  5.8014, 11.7   ,\n",
       "         5.5416,  7.5402,  5.3077,  7.4239,  7.6031,  6.3328,  6.3589,\n",
       "         6.2742,  5.6397,  9.3102,  9.4536,  8.8254,  5.1793, 21.279 ,\n",
       "        14.908 , 18.959 ,  7.2182,  8.2951, 10.236 ,  5.4994, 20.341 ,\n",
       "        10.136 ,  7.3345,  6.0062,  7.2259,  5.0269,  6.5479,  7.5386,\n",
       "         5.0365, 10.274 ,  5.1077,  5.7292,  5.1884,  6.3557,  9.7687,\n",
       "         6.5159,  8.5172,  9.1802,  6.002 ,  5.5204,  5.0594,  5.7077,\n",
       "         7.6366,  5.8707,  5.3054,  8.2934, 13.394 ,  5.4369],\n",
       "       [ 1.    ,  1.    ,  1.    ,  1.    ,  1.    ,  1.    ,  1.    ,\n",
       "         1.    ,  1.    ,  1.    ,  1.    ,  1.    ,  1.    ,  1.    ,\n",
       "         1.    ,  1.    ,  1.    ,  1.    ,  1.    ,  1.    ,  1.    ,\n",
       "         1.    ,  1.    ,  1.    ,  1.    ,  1.    ,  1.    ,  1.    ,\n",
       "         1.    ,  1.    ,  1.    ,  1.    ,  1.    ,  1.    ,  1.    ,\n",
       "         1.    ,  1.    ,  1.    ,  1.    ,  1.    ,  1.    ,  1.    ,\n",
       "         1.    ,  1.    ,  1.    ,  1.    ,  1.    ,  1.    ,  1.    ,\n",
       "         1.    ,  1.    ,  1.    ,  1.    ,  1.    ,  1.    ,  1.    ,\n",
       "         1.    ,  1.    ,  1.    ,  1.    ,  1.    ,  1.    ,  1.    ,\n",
       "         1.    ,  1.    ,  1.    ,  1.    ,  1.    ,  1.    ,  1.    ,\n",
       "         1.    ,  1.    ,  1.    ,  1.    ,  1.    ,  1.    ,  1.    ,\n",
       "         1.    ,  1.    ,  1.    ,  1.    ,  1.    ,  1.    ,  1.    ,\n",
       "         1.    ,  1.    ,  1.    ,  1.    ,  1.    ,  1.    ,  1.    ,\n",
       "         1.    ,  1.    ,  1.    ,  1.    ,  1.    ,  1.    ]])"
      ]
     },
     "execution_count": 16,
     "metadata": {},
     "output_type": "execute_result"
    }
   ],
   "source": [
    "y.size\n",
    "x.T"
   ]
  },
  {
   "cell_type": "code",
   "execution_count": 22,
   "metadata": {},
   "outputs": [
    {
     "data": {
      "text/plain": [
       "[[1], [1]]"
      ]
     },
     "execution_count": 22,
     "metadata": {},
     "output_type": "execute_result"
    }
   ],
   "source": [
    "theta = [[1],[1]]\n",
    "theta"
   ]
  },
  {
   "cell_type": "code",
   "execution_count": 27,
   "metadata": {},
   "outputs": [
    {
     "data": {
      "text/plain": [
       "array([[ 7.1101],\n",
       "       [ 6.5277],\n",
       "       [ 9.5186],\n",
       "       [ 8.0032],\n",
       "       [ 6.8598],\n",
       "       [ 9.3829],\n",
       "       [ 8.4764],\n",
       "       [ 9.5781],\n",
       "       [ 7.4862],\n",
       "       [ 6.0546],\n",
       "       [ 6.7107],\n",
       "       [15.164 ],\n",
       "       [ 6.734 ],\n",
       "       [ 9.4084],\n",
       "       [ 6.6407],\n",
       "       [ 6.3794],\n",
       "       [ 7.3654],\n",
       "       [ 6.1301],\n",
       "       [ 7.4296],\n",
       "       [ 8.0708],\n",
       "       [ 7.1891],\n",
       "       [21.27  ],\n",
       "       [ 6.4901],\n",
       "       [ 7.3261],\n",
       "       [ 6.5649],\n",
       "       [19.945 ],\n",
       "       [13.828 ],\n",
       "       [11.957 ],\n",
       "       [14.176 ],\n",
       "       [23.203 ],\n",
       "       [ 6.2524],\n",
       "       [ 7.5894],\n",
       "       [10.2482],\n",
       "       [ 6.8918],\n",
       "       [ 9.2111],\n",
       "       [ 8.9334],\n",
       "       [ 9.0959],\n",
       "       [ 6.6063],\n",
       "       [13.836 ],\n",
       "       [ 7.3534],\n",
       "       [ 6.4069],\n",
       "       [ 7.8825],\n",
       "       [12.708 ],\n",
       "       [ 6.7737],\n",
       "       [ 8.8247],\n",
       "       [ 8.0931],\n",
       "       [ 6.0702],\n",
       "       [ 6.8014],\n",
       "       [12.7   ],\n",
       "       [ 6.5416],\n",
       "       [ 8.5402],\n",
       "       [ 6.3077],\n",
       "       [ 8.4239],\n",
       "       [ 8.6031],\n",
       "       [ 7.3328],\n",
       "       [ 7.3589],\n",
       "       [ 7.2742],\n",
       "       [ 6.6397],\n",
       "       [10.3102],\n",
       "       [10.4536],\n",
       "       [ 9.8254],\n",
       "       [ 6.1793],\n",
       "       [22.279 ],\n",
       "       [15.908 ],\n",
       "       [19.959 ],\n",
       "       [ 8.2182],\n",
       "       [ 9.2951],\n",
       "       [11.236 ],\n",
       "       [ 6.4994],\n",
       "       [21.341 ],\n",
       "       [11.136 ],\n",
       "       [ 8.3345],\n",
       "       [ 7.0062],\n",
       "       [ 8.2259],\n",
       "       [ 6.0269],\n",
       "       [ 7.5479],\n",
       "       [ 8.5386],\n",
       "       [ 6.0365],\n",
       "       [11.274 ],\n",
       "       [ 6.1077],\n",
       "       [ 6.7292],\n",
       "       [ 6.1884],\n",
       "       [ 7.3557],\n",
       "       [10.7687],\n",
       "       [ 7.5159],\n",
       "       [ 9.5172],\n",
       "       [10.1802],\n",
       "       [ 7.002 ],\n",
       "       [ 6.5204],\n",
       "       [ 6.0594],\n",
       "       [ 6.7077],\n",
       "       [ 8.6366],\n",
       "       [ 6.8707],\n",
       "       [ 6.3054],\n",
       "       [ 9.2934],\n",
       "       [14.394 ],\n",
       "       [ 6.4369]])"
      ]
     },
     "execution_count": 27,
     "metadata": {},
     "output_type": "execute_result"
    }
   ],
   "source": [
    "h = x @ theta\n",
    "h"
   ]
  },
  {
   "cell_type": "code",
   "execution_count": 19,
   "metadata": {},
   "outputs": [],
   "source": [
    "shittu = theta - alpha * (1/m * (x.T @ (h - y )))"
   ]
  },
  {
   "cell_type": "code",
   "execution_count": 20,
   "metadata": {},
   "outputs": [
    {
     "data": {
      "text/plain": [
       "array([[0.6532885 ],\n",
       "       [0.05839135]])"
      ]
     },
     "execution_count": 20,
     "metadata": {},
     "output_type": "execute_result"
    }
   ],
   "source": [
    "shittu"
   ]
  },
  {
   "cell_type": "code",
   "execution_count": null,
   "metadata": {},
   "outputs": [],
   "source": []
  }
 ],
 "metadata": {
  "kernelspec": {
   "display_name": "Python 3",
   "language": "python",
   "name": "python3"
  },
  "language_info": {
   "codemirror_mode": {
    "name": "ipython",
    "version": 3
   },
   "file_extension": ".py",
   "mimetype": "text/x-python",
   "name": "python",
   "nbconvert_exporter": "python",
   "pygments_lexer": "ipython3",
   "version": "3.7.1"
  }
 },
 "nbformat": 4,
 "nbformat_minor": 2
}
