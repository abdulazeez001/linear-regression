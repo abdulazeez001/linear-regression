{
 "cells": [
  {
   "cell_type": "code",
   "execution_count": 1,
   "metadata": {},
   "outputs": [],
   "source": [
    "import numpy as np \n",
    "import pandas as pd \n",
    "import matplotlib.pyplot as plt\n",
    "import seaborn as sns"
   ]
  },
  {
   "cell_type": "code",
   "execution_count": 2,
   "metadata": {},
   "outputs": [],
   "source": [
    "data = np.loadtxt(r'C:\\Users\\UNION\\Downloads\\cohort3-resources-master\\cohort3-resources-master\\Beginner\\Week7\\Notebook\\data\\ex1data2.txt',delimiter = \",\")"
   ]
  },
  {
   "cell_type": "code",
   "execution_count": 3,
   "metadata": {},
   "outputs": [
    {
     "data": {
      "text/plain": [
       "array([[2.10400e+03, 3.00000e+00, 3.99900e+05],\n",
       "       [1.60000e+03, 3.00000e+00, 3.29900e+05],\n",
       "       [2.40000e+03, 3.00000e+00, 3.69000e+05],\n",
       "       [1.41600e+03, 2.00000e+00, 2.32000e+05],\n",
       "       [3.00000e+03, 4.00000e+00, 5.39900e+05],\n",
       "       [1.98500e+03, 4.00000e+00, 2.99900e+05],\n",
       "       [1.53400e+03, 3.00000e+00, 3.14900e+05],\n",
       "       [1.42700e+03, 3.00000e+00, 1.98999e+05],\n",
       "       [1.38000e+03, 3.00000e+00, 2.12000e+05],\n",
       "       [1.49400e+03, 3.00000e+00, 2.42500e+05],\n",
       "       [1.94000e+03, 4.00000e+00, 2.39999e+05],\n",
       "       [2.00000e+03, 3.00000e+00, 3.47000e+05],\n",
       "       [1.89000e+03, 3.00000e+00, 3.29999e+05],\n",
       "       [4.47800e+03, 5.00000e+00, 6.99900e+05],\n",
       "       [1.26800e+03, 3.00000e+00, 2.59900e+05],\n",
       "       [2.30000e+03, 4.00000e+00, 4.49900e+05],\n",
       "       [1.32000e+03, 2.00000e+00, 2.99900e+05],\n",
       "       [1.23600e+03, 3.00000e+00, 1.99900e+05],\n",
       "       [2.60900e+03, 4.00000e+00, 4.99998e+05],\n",
       "       [3.03100e+03, 4.00000e+00, 5.99000e+05],\n",
       "       [1.76700e+03, 3.00000e+00, 2.52900e+05],\n",
       "       [1.88800e+03, 2.00000e+00, 2.55000e+05],\n",
       "       [1.60400e+03, 3.00000e+00, 2.42900e+05],\n",
       "       [1.96200e+03, 4.00000e+00, 2.59900e+05],\n",
       "       [3.89000e+03, 3.00000e+00, 5.73900e+05],\n",
       "       [1.10000e+03, 3.00000e+00, 2.49900e+05],\n",
       "       [1.45800e+03, 3.00000e+00, 4.64500e+05],\n",
       "       [2.52600e+03, 3.00000e+00, 4.69000e+05],\n",
       "       [2.20000e+03, 3.00000e+00, 4.75000e+05],\n",
       "       [2.63700e+03, 3.00000e+00, 2.99900e+05],\n",
       "       [1.83900e+03, 2.00000e+00, 3.49900e+05],\n",
       "       [1.00000e+03, 1.00000e+00, 1.69900e+05],\n",
       "       [2.04000e+03, 4.00000e+00, 3.14900e+05],\n",
       "       [3.13700e+03, 3.00000e+00, 5.79900e+05],\n",
       "       [1.81100e+03, 4.00000e+00, 2.85900e+05],\n",
       "       [1.43700e+03, 3.00000e+00, 2.49900e+05],\n",
       "       [1.23900e+03, 3.00000e+00, 2.29900e+05],\n",
       "       [2.13200e+03, 4.00000e+00, 3.45000e+05],\n",
       "       [4.21500e+03, 4.00000e+00, 5.49000e+05],\n",
       "       [2.16200e+03, 4.00000e+00, 2.87000e+05],\n",
       "       [1.66400e+03, 2.00000e+00, 3.68500e+05],\n",
       "       [2.23800e+03, 3.00000e+00, 3.29900e+05],\n",
       "       [2.56700e+03, 4.00000e+00, 3.14000e+05],\n",
       "       [1.20000e+03, 3.00000e+00, 2.99000e+05],\n",
       "       [8.52000e+02, 2.00000e+00, 1.79900e+05],\n",
       "       [1.85200e+03, 4.00000e+00, 2.99900e+05],\n",
       "       [1.20300e+03, 3.00000e+00, 2.39500e+05]])"
      ]
     },
     "execution_count": 3,
     "metadata": {},
     "output_type": "execute_result"
    }
   ],
   "source": [
    "data"
   ]
  },
  {
   "cell_type": "code",
   "execution_count": 4,
   "metadata": {},
   "outputs": [],
   "source": [
    "x_data = np.c_[data[:,0],data[:,1]]"
   ]
  },
  {
   "cell_type": "code",
   "execution_count": 5,
   "metadata": {},
   "outputs": [],
   "source": [
    "y = np.c_[data[:,2]]"
   ]
  },
  {
   "cell_type": "code",
   "execution_count": 6,
   "metadata": {},
   "outputs": [
    {
     "data": {
      "text/plain": [
       "array([[2.104e+03, 3.000e+00],\n",
       "       [1.600e+03, 3.000e+00],\n",
       "       [2.400e+03, 3.000e+00],\n",
       "       [1.416e+03, 2.000e+00],\n",
       "       [3.000e+03, 4.000e+00],\n",
       "       [1.985e+03, 4.000e+00],\n",
       "       [1.534e+03, 3.000e+00],\n",
       "       [1.427e+03, 3.000e+00],\n",
       "       [1.380e+03, 3.000e+00],\n",
       "       [1.494e+03, 3.000e+00],\n",
       "       [1.940e+03, 4.000e+00],\n",
       "       [2.000e+03, 3.000e+00],\n",
       "       [1.890e+03, 3.000e+00],\n",
       "       [4.478e+03, 5.000e+00],\n",
       "       [1.268e+03, 3.000e+00],\n",
       "       [2.300e+03, 4.000e+00],\n",
       "       [1.320e+03, 2.000e+00],\n",
       "       [1.236e+03, 3.000e+00],\n",
       "       [2.609e+03, 4.000e+00],\n",
       "       [3.031e+03, 4.000e+00],\n",
       "       [1.767e+03, 3.000e+00],\n",
       "       [1.888e+03, 2.000e+00],\n",
       "       [1.604e+03, 3.000e+00],\n",
       "       [1.962e+03, 4.000e+00],\n",
       "       [3.890e+03, 3.000e+00],\n",
       "       [1.100e+03, 3.000e+00],\n",
       "       [1.458e+03, 3.000e+00],\n",
       "       [2.526e+03, 3.000e+00],\n",
       "       [2.200e+03, 3.000e+00],\n",
       "       [2.637e+03, 3.000e+00],\n",
       "       [1.839e+03, 2.000e+00],\n",
       "       [1.000e+03, 1.000e+00],\n",
       "       [2.040e+03, 4.000e+00],\n",
       "       [3.137e+03, 3.000e+00],\n",
       "       [1.811e+03, 4.000e+00],\n",
       "       [1.437e+03, 3.000e+00],\n",
       "       [1.239e+03, 3.000e+00],\n",
       "       [2.132e+03, 4.000e+00],\n",
       "       [4.215e+03, 4.000e+00],\n",
       "       [2.162e+03, 4.000e+00],\n",
       "       [1.664e+03, 2.000e+00],\n",
       "       [2.238e+03, 3.000e+00],\n",
       "       [2.567e+03, 4.000e+00],\n",
       "       [1.200e+03, 3.000e+00],\n",
       "       [8.520e+02, 2.000e+00],\n",
       "       [1.852e+03, 4.000e+00],\n",
       "       [1.203e+03, 3.000e+00]])"
      ]
     },
     "execution_count": 6,
     "metadata": {},
     "output_type": "execute_result"
    }
   ],
   "source": [
    "x_data"
   ]
  },
  {
   "cell_type": "code",
   "execution_count": 7,
   "metadata": {},
   "outputs": [
    {
     "data": {
      "text/plain": [
       "array([[399900.],\n",
       "       [329900.],\n",
       "       [369000.],\n",
       "       [232000.],\n",
       "       [539900.],\n",
       "       [299900.],\n",
       "       [314900.],\n",
       "       [198999.],\n",
       "       [212000.],\n",
       "       [242500.],\n",
       "       [239999.],\n",
       "       [347000.],\n",
       "       [329999.],\n",
       "       [699900.],\n",
       "       [259900.],\n",
       "       [449900.],\n",
       "       [299900.],\n",
       "       [199900.],\n",
       "       [499998.],\n",
       "       [599000.],\n",
       "       [252900.],\n",
       "       [255000.],\n",
       "       [242900.],\n",
       "       [259900.],\n",
       "       [573900.],\n",
       "       [249900.],\n",
       "       [464500.],\n",
       "       [469000.],\n",
       "       [475000.],\n",
       "       [299900.],\n",
       "       [349900.],\n",
       "       [169900.],\n",
       "       [314900.],\n",
       "       [579900.],\n",
       "       [285900.],\n",
       "       [249900.],\n",
       "       [229900.],\n",
       "       [345000.],\n",
       "       [549000.],\n",
       "       [287000.],\n",
       "       [368500.],\n",
       "       [329900.],\n",
       "       [314000.],\n",
       "       [299000.],\n",
       "       [179900.],\n",
       "       [299900.],\n",
       "       [239500.]])"
      ]
     },
     "execution_count": 7,
     "metadata": {},
     "output_type": "execute_result"
    }
   ],
   "source": [
    "y"
   ]
  },
  {
   "cell_type": "code",
   "execution_count": 8,
   "metadata": {},
   "outputs": [
    {
     "data": {
      "text/plain": [
       "<matplotlib.collections.PathCollection at 0x19ad7404eb8>"
      ]
     },
     "execution_count": 8,
     "metadata": {},
     "output_type": "execute_result"
    },
    {
     "data": {
      "image/png": "[encoded data removed]",
      "text/plain": [
       "<Figure size 432x288 with 1 Axes>"
      ]
     },
     "metadata": {
      "needs_background": "light"
     },
     "output_type": "display_data"
    }
   ],
   "source": [
    "plt.scatter(x_data[:,0],y)"
   ]
  },
  {
   "cell_type": "code",
   "execution_count": 9,
   "metadata": {
    "scrolled": true
   },
   "outputs": [
    {
     "data": {
      "text/plain": [
       "<matplotlib.collections.PathCollection at 0x19ad7af0470>"
      ]
     },
     "execution_count": 9,
     "metadata": {},
     "output_type": "execute_result"
    },
    {
     "data": {
      "image/png": "[encoded data removed]",
      "text/plain": [
       "<Figure size 432x288 with 1 Axes>"
      ]
     },
     "metadata": {
      "needs_background": "light"
     },
     "output_type": "display_data"
    }
   ],
   "source": [
    "plt.scatter(x_data[:,1],y ,marker = 'o')"
   ]
  },
  {
   "cell_type": "code",
   "execution_count": 10,
   "metadata": {},
   "outputs": [
    {
     "data": {
      "text/plain": [
       "array([[ 1.31415422e-01, -2.26093368e-01],\n",
       "       [-5.09640698e-01, -2.26093368e-01],\n",
       "       [ 5.07908699e-01, -2.26093368e-01],\n",
       "       [-7.43677059e-01, -1.55439190e+00],\n",
       "       [ 1.27107075e+00,  1.10220517e+00],\n",
       "       [-1.99450507e-02,  1.10220517e+00],\n",
       "       [-5.93588523e-01, -2.26093368e-01],\n",
       "       [-7.29685755e-01, -2.26093368e-01],\n",
       "       [-7.89466782e-01, -2.26093368e-01],\n",
       "       [-6.44465993e-01, -2.26093368e-01],\n",
       "       [-7.71822042e-02,  1.10220517e+00],\n",
       "       [-8.65999486e-04, -2.26093368e-01],\n",
       "       [-1.40779041e-01, -2.26093368e-01],\n",
       "       [ 3.15099326e+00,  2.43050370e+00],\n",
       "       [-9.31923697e-01, -2.26093368e-01],\n",
       "       [ 3.80715024e-01,  1.10220517e+00],\n",
       "       [-8.65782986e-01, -1.55439190e+00],\n",
       "       [-9.72625673e-01, -2.26093368e-01],\n",
       "       [ 7.73743478e-01,  1.10220517e+00],\n",
       "       [ 1.31050078e+00,  1.10220517e+00],\n",
       "       [-2.97227261e-01, -2.26093368e-01],\n",
       "       [-1.43322915e-01, -1.55439190e+00],\n",
       "       [-5.04552951e-01, -2.26093368e-01],\n",
       "       [-4.91995958e-02,  1.10220517e+00],\n",
       "       [ 2.40309445e+00, -2.26093368e-01],\n",
       "       [-1.14560907e+00, -2.26093368e-01],\n",
       "       [-6.90255715e-01, -2.26093368e-01],\n",
       "       [ 6.68172729e-01, -2.26093368e-01],\n",
       "       [ 2.53521350e-01, -2.26093368e-01],\n",
       "       [ 8.09357707e-01, -2.26093368e-01],\n",
       "       [-2.05647815e-01, -1.55439190e+00],\n",
       "       [-1.27280274e+00, -2.88269044e+00],\n",
       "       [ 5.00114703e-02,  1.10220517e+00],\n",
       "       [ 1.44532608e+00, -2.26093368e-01],\n",
       "       [-2.41262044e-01,  1.10220517e+00],\n",
       "       [-7.16966387e-01, -2.26093368e-01],\n",
       "       [-9.68809863e-01, -2.26093368e-01],\n",
       "       [ 1.67029651e-01,  1.10220517e+00],\n",
       "       [ 2.81647389e+00,  1.10220517e+00],\n",
       "       [ 2.05187753e-01,  1.10220517e+00],\n",
       "       [-4.28236746e-01, -1.55439190e+00],\n",
       "       [ 3.01854946e-01, -2.26093368e-01],\n",
       "       [ 7.20322135e-01,  1.10220517e+00],\n",
       "       [-1.01841540e+00, -2.26093368e-01],\n",
       "       [-1.46104938e+00, -1.55439190e+00],\n",
       "       [-1.89112638e-01,  1.10220517e+00],\n",
       "       [-1.01459959e+00, -2.26093368e-01]])"
      ]
     },
     "execution_count": 10,
     "metadata": {},
     "output_type": "execute_result"
    }
   ],
   "source": [
    "from sklearn.preprocessing import StandardScaler\n",
    "ndata = StandardScaler()\n",
    "x_new = ndata.fit_transform(x_data)\n",
    "x_new"
   ]
  },
  {
   "cell_type": "code",
   "execution_count": 11,
   "metadata": {},
   "outputs": [],
   "source": [
    "from sklearn.model_selection import train_test_split\n",
    "X_train, X_test, y_train, y_test = train_test_split(x_new, y,test_size = 0.4 ,random_state=42)"
   ]
  },
  {
   "cell_type": "code",
   "execution_count": 12,
   "metadata": {},
   "outputs": [],
   "source": [
    "from sklearn.linear_model import LinearRegression"
   ]
  },
  {
   "cell_type": "code",
   "execution_count": 13,
   "metadata": {},
   "outputs": [],
   "source": [
    "lr = LinearRegression()"
   ]
  },
  {
   "cell_type": "code",
   "execution_count": 14,
   "metadata": {},
   "outputs": [
    {
     "data": {
      "text/plain": [
       "LinearRegression(copy_X=True, fit_intercept=True, n_jobs=None,\n",
       "         normalize=False)"
      ]
     },
     "execution_count": 14,
     "metadata": {},
     "output_type": "execute_result"
    }
   ],
   "source": [
    "lr.fit(X_train,y_train)"
   ]
  },
  {
   "cell_type": "code",
   "execution_count": 15,
   "metadata": {},
   "outputs": [
    {
     "name": "stdout",
     "output_type": "stream",
     "text": [
      "intercept = [317627.1090268]\n",
      "Coefficients: \n",
      " [91012.88607665 -5876.78430921]\n"
     ]
    }
   ],
   "source": [
    "lc = lr.coef_[0]\n",
    "inter = lr.intercept_\n",
    "print('intercept =',inter)\n",
    "print('Coefficients: \\n', lc)"
   ]
  },
  {
   "cell_type": "code",
   "execution_count": 16,
   "metadata": {},
   "outputs": [],
   "source": [
    "predictions = lr.predict( X_test)"
   ]
  },
  {
   "cell_type": "code",
   "execution_count": 17,
   "metadata": {},
   "outputs": [
    {
     "data": {
      "text/plain": [
       "Text(0, 0.5, 'Predicted Y')"
      ]
     },
     "execution_count": 17,
     "metadata": {},
     "output_type": "execute_result"
    },
    {
     "data": {
      "image/png": "[encoded data removed]",
      "text/plain": [
       "<Figure size 432x288 with 1 Axes>"
      ]
     },
     "metadata": {
      "needs_background": "light"
     },
     "output_type": "display_data"
    }
   ],
   "source": [
    "plt.scatter(y_test,predictions)\n",
    "plt.xlabel('Y Test')\n",
    "plt.ylabel('Predicted Y')"
   ]
  },
  {
   "cell_type": "code",
   "execution_count": 18,
   "metadata": {},
   "outputs": [],
   "source": [
    "def predict():\n",
    "    input_size = float(input(\"Input the size (square feet) of house you want: \"))\n",
    "    input_bedrooms = float(input(\"Input the number of bedrooms you desire: \"))\n",
    "    print(\"\\nCalculating... ... ... ... ... ...\\n\")\n",
    "    print(\"For a house of size \", input_size, \"sqft, with \", input_bedrooms, \"rooms, \\nThe price estimate is N\", ((input_size * lc[0])+(input_bedrooms * lc[1]) + inter[0]))"
   ]
  },
  {
   "cell_type": "code",
   "execution_count": 19,
   "metadata": {},
   "outputs": [
    {
     "name": "stdout",
     "output_type": "stream",
     "text": [
      "Input the size (square feet) of house you want: 123\n",
      "Input the number of bedrooms you desire: 4\n",
      "\n",
      "Calculating... ... ... ... ... ...\n",
      "\n",
      "For a house of size  123.0 sqft, with  4.0 rooms, \n",
      "The price estimate is N 11488704.959217649\n"
     ]
    }
   ],
   "source": [
    "predict()"
   ]
  }
 ],
 "metadata": {
  "kernelspec": {
   "display_name": "Python 3",
   "language": "python",
   "name": "python3"
  },
  "language_info": {
   "codemirror_mode": {
    "name": "ipython",
    "version": 3
   },
   "file_extension": ".py",
   "mimetype": "text/x-python",
   "name": "python",
   "nbconvert_exporter": "python",
   "pygments_lexer": "ipython3",
   "version": "3.7.3"
  }
 },
 "nbformat": 4,
 "nbformat_minor": 2
}
